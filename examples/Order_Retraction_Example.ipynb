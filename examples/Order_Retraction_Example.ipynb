{
 "cells": [
  {
   "cell_type": "markdown",
   "metadata": {},
   "source": [
    "# Order Retraction"
   ]
  },
  {
   "cell_type": "markdown",
   "metadata": {},
   "source": [
    "Computes and plot order retraction. Needs the executable `CMGDB_RETRACT`."
   ]
  },
  {
   "cell_type": "code",
   "execution_count": 1,
   "metadata": {},
   "outputs": [],
   "source": [
    "import CMGDB\n",
    "\n",
    "import matplotlib.pyplot as plt\n",
    "%matplotlib inline\n",
    "import matplotlib\n",
    "from matplotlib.patches import Rectangle\n",
    "from matplotlib.collections import PatchCollection\n",
    "import graphviz\n",
    "import numpy as np\n",
    "import time\n",
    "import math\n",
    "import csv"
   ]
  },
  {
   "cell_type": "code",
   "execution_count": 2,
   "metadata": {},
   "outputs": [],
   "source": [
    "def PlotOrderRetraction(morse_graph, map_graph, retract_tiles, retract_indices,\n",
    "                        morse_nodes_map=None, morse_nodes=None, proj_dims=None,\n",
    "                        fig_w=8, fig_h=8, xlim=None, ylim=None, cmap=matplotlib.cm.brg):\n",
    "    num_morse_sets = morse_graph.num_vertices()\n",
    "    num_verts = map_graph.num_vertices()\n",
    "    if morse_nodes_map == None:\n",
    "        morse_nodes_map = {}\n",
    "    if morse_nodes == None:\n",
    "        morse_nodes = range(num_morse_sets)\n",
    "    if proj_dims == None:\n",
    "        d1 = 0\n",
    "        d2 = 1\n",
    "    else:\n",
    "        d1 = proj_dims[0]\n",
    "        d2 = proj_dims[1]\n",
    "    rect = morse_graph.phase_space_box(0)\n",
    "    dim = int(len(rect) / 2)\n",
    "    rect_width = rect[dim + d1] - rect[d1]\n",
    "    rect_height = rect[dim + d2] - rect[d2]\n",
    "    # Get min and max x and y values\n",
    "    grid_boxes = [morse_graph.phase_space_box(i) for i in range(num_verts)]\n",
    "    if xlim == None:\n",
    "        x_min = min([rect[d1] for rect in grid_boxes])\n",
    "        x_max = max([rect[dim + d1] for rect in grid_boxes])\n",
    "        if x_max - x_min < 0.1:\n",
    "            x_min -= 0.05\n",
    "            x_max += 0.05\n",
    "    else:\n",
    "        x_min = xlim[0]\n",
    "        x_max = xlim[1]\n",
    "    if ylim == None:\n",
    "        y_min = min([rect[d2] for rect in grid_boxes])\n",
    "        y_max = max([rect[dim + d2] for rect in grid_boxes])\n",
    "        if y_max - y_min < 0.1:\n",
    "            y_min -= 0.05\n",
    "            y_max += 0.05\n",
    "    else:\n",
    "        y_min = ylim[0]\n",
    "        y_max = ylim[1]\n",
    "    x_axis_width = x_max - x_min\n",
    "    y_axis_height = y_max - y_min\n",
    "    # Next plot order retraction and Morse sets\n",
    "    fig, ax = plt.subplots(figsize=(fig_w, fig_h))\n",
    "    # Set axis limits\n",
    "    ax.set_xlim([x_min, x_max])\n",
    "    ax.set_ylim([y_min, y_max])\n",
    "    # Normalization for color map\n",
    "    cmap_norm = matplotlib.colors.Normalize(vmin=0, vmax=num_morse_sets-1)\n",
    "    # Plot order retract boxes\n",
    "    for m_node in morse_nodes:\n",
    "        # m_node is the index in the original Morse graph\n",
    "        clr = matplotlib.colors.to_hex(cmap(cmap_norm(m_node)))\n",
    "        # Get the index of the Morse set in the order retraction Morse graph\n",
    "        morse_node = morse_nodes_map[m_node] if m_node in morse_nodes_map else m_node\n",
    "        tiles_inds = [i for i in range(num_verts) if retract_tiles[i] == morse_node]\n",
    "        morse_retract = [morse_graph.phase_space_box(retract_indices[i]) for i in tiles_inds]\n",
    "        rectangles_list = []\n",
    "        for rect in morse_retract:\n",
    "            rectangle = Rectangle((rect[d1], rect[d2]), rect_width, rect_height)\n",
    "            rectangles_list.append(rectangle)\n",
    "        pc = PatchCollection(rectangles_list, cmap=cmap, fc=clr, alpha=0.3, ec='none')\n",
    "        ax.add_collection(pc)\n",
    "    # Plot Morse set boxes\n",
    "    for morse_node in morse_nodes:\n",
    "        clr = matplotlib.colors.to_hex(cmap(cmap_norm(morse_node)))\n",
    "        rectangles_list = []\n",
    "        for index in morse_graph.morse_set(morse_node):\n",
    "            rect = morse_graph.phase_space_box(index)\n",
    "            rectangle = Rectangle((rect[d1], rect[d2]), rect_width, rect_height)\n",
    "            rectangles_list.append(rectangle)\n",
    "        pc2 = PatchCollection(rectangles_list, cmap=cmap, fc=clr, alpha=1.0, ec='none')\n",
    "        ax.add_collection(pc2)\n",
    "    plt.show()"
   ]
  },
  {
   "cell_type": "code",
   "execution_count": 3,
   "metadata": {},
   "outputs": [],
   "source": [
    "# Leslie map with padding\n",
    "\n",
    "# Define Leslie map\n",
    "def f(x):\n",
    "    th1 = 19.6\n",
    "    th2 = 23.68\n",
    "    return [(th1 * x[0] + th2 * x[1]) * math.exp (-0.1 * (x[0] + x[1])), 0.7 * x[0]]\n",
    "\n",
    "# Define box map for f\n",
    "def F(rect):\n",
    "    return CMGDB.BoxMap(f, rect, padding=False)"
   ]
  },
  {
   "cell_type": "code",
   "execution_count": 4,
   "metadata": {},
   "outputs": [],
   "source": [
    "phase_subdiv = 18\n",
    "lower_bounds = [-0.001, -0.001]\n",
    "upper_bounds = [90.0, 70.0]\n",
    "\n",
    "model = CMGDB.Model(phase_subdiv, lower_bounds, upper_bounds, F)"
   ]
  },
  {
   "cell_type": "code",
   "execution_count": 5,
   "metadata": {},
   "outputs": [
    {
     "name": "stdout",
     "output_type": "stream",
     "text": [
      "CPU times: user 10.5 s, sys: 66.8 ms, total: 10.5 s\n",
      "Wall time: 10.7 s\n"
     ]
    }
   ],
   "source": [
    "%%time\n",
    "morse_graph, map_graph = CMGDB.ComputeMorseGraph(model)"
   ]
  },
  {
   "cell_type": "code",
   "execution_count": 6,
   "metadata": {},
   "outputs": [
    {
     "data": {
      "image/svg+xml": [
       "<?xml version=\"1.0\" encoding=\"UTF-8\" standalone=\"no\"?>\n",
       "<!DOCTYPE svg PUBLIC \"-//W3C//DTD SVG 1.1//EN\"\n",
       " \"http://www.w3.org/Graphics/SVG/1.1/DTD/svg11.dtd\">\n",
       "<!-- Generated by graphviz version 2.40.1 (20161225.0304)\n",
       " -->\n",
       "<!-- Title: %3 Pages: 1 -->\n",
       "<svg width=\"189pt\" height=\"260pt\"\n",
       " viewBox=\"0.00 0.00 189.00 260.00\" xmlns=\"http://www.w3.org/2000/svg\" xmlns:xlink=\"http://www.w3.org/1999/xlink\">\n",
       "<g id=\"graph0\" class=\"graph\" transform=\"scale(1 1) rotate(0) translate(4 256)\">\n",
       "<title>%3</title>\n",
       "<polygon fill=\"#ffffff\" stroke=\"transparent\" points=\"-4,4 -4,-256 185,-256 185,4 -4,4\"/>\n",
       "<!-- 0 -->\n",
       "<g id=\"node1\" class=\"node\">\n",
       "<title>0</title>\n",
       "<ellipse fill=\"#0000ff\" stroke=\"#000000\" cx=\"54\" cy=\"-18\" rx=\"27\" ry=\"18\"/>\n",
       "<text text-anchor=\"middle\" x=\"54\" y=\"-14.3\" font-family=\"Times,serif\" font-size=\"14.00\" fill=\"#000000\">0</text>\n",
       "</g>\n",
       "<!-- 1 -->\n",
       "<g id=\"node2\" class=\"node\">\n",
       "<title>1</title>\n",
       "<ellipse fill=\"#5400ab\" stroke=\"#000000\" cx=\"27\" cy=\"-162\" rx=\"27\" ry=\"18\"/>\n",
       "<text text-anchor=\"middle\" x=\"27\" y=\"-158.3\" font-family=\"Times,serif\" font-size=\"14.00\" fill=\"#000000\">1</text>\n",
       "</g>\n",
       "<!-- 1&#45;&gt;0 -->\n",
       "<g id=\"edge1\" class=\"edge\">\n",
       "<title>1&#45;&gt;0</title>\n",
       "<path fill=\"none\" stroke=\"#000000\" d=\"M30.365,-144.0535C34.973,-119.4774 43.2936,-75.1008 48.7317,-46.0974\"/>\n",
       "<polygon fill=\"#000000\" stroke=\"#000000\" points=\"52.1897,-46.6465 50.5926,-36.1727 45.3096,-45.3564 52.1897,-46.6465\"/>\n",
       "</g>\n",
       "<!-- 2 -->\n",
       "<g id=\"node3\" class=\"node\">\n",
       "<title>2</title>\n",
       "<ellipse fill=\"#aa0055\" stroke=\"#000000\" cx=\"82\" cy=\"-90\" rx=\"27\" ry=\"18\"/>\n",
       "<text text-anchor=\"middle\" x=\"82\" y=\"-86.3\" font-family=\"Times,serif\" font-size=\"14.00\" fill=\"#000000\">2</text>\n",
       "</g>\n",
       "<!-- 2&#45;&gt;0 -->\n",
       "<g id=\"edge2\" class=\"edge\">\n",
       "<title>2&#45;&gt;0</title>\n",
       "<path fill=\"none\" stroke=\"#000000\" d=\"M75.222,-72.5708C72.0128,-64.3187 68.1065,-54.2738 64.5242,-45.0623\"/>\n",
       "<polygon fill=\"#000000\" stroke=\"#000000\" points=\"67.6992,-43.5697 60.8126,-35.5182 61.1752,-46.1069 67.6992,-43.5697\"/>\n",
       "</g>\n",
       "<!-- 3 -->\n",
       "<g id=\"node4\" class=\"node\">\n",
       "<title>3</title>\n",
       "<ellipse fill=\"#fe0100\" stroke=\"#000000\" cx=\"154\" cy=\"-18\" rx=\"27\" ry=\"18\"/>\n",
       "<text text-anchor=\"middle\" x=\"154\" y=\"-14.3\" font-family=\"Times,serif\" font-size=\"14.00\" fill=\"#000000\">3</text>\n",
       "</g>\n",
       "<!-- 4 -->\n",
       "<g id=\"node5\" class=\"node\">\n",
       "<title>4</title>\n",
       "<ellipse fill=\"#aa5500\" stroke=\"#000000\" cx=\"154\" cy=\"-90\" rx=\"27\" ry=\"18\"/>\n",
       "<text text-anchor=\"middle\" x=\"154\" y=\"-86.3\" font-family=\"Times,serif\" font-size=\"14.00\" fill=\"#000000\">4</text>\n",
       "</g>\n",
       "<!-- 4&#45;&gt;3 -->\n",
       "<g id=\"edge3\" class=\"edge\">\n",
       "<title>4&#45;&gt;3</title>\n",
       "<path fill=\"none\" stroke=\"#000000\" d=\"M154,-71.8314C154,-64.131 154,-54.9743 154,-46.4166\"/>\n",
       "<polygon fill=\"#000000\" stroke=\"#000000\" points=\"157.5001,-46.4132 154,-36.4133 150.5001,-46.4133 157.5001,-46.4132\"/>\n",
       "</g>\n",
       "<!-- 5 -->\n",
       "<g id=\"node6\" class=\"node\">\n",
       "<title>5</title>\n",
       "<ellipse fill=\"#54ab00\" stroke=\"#000000\" cx=\"99\" cy=\"-162\" rx=\"27\" ry=\"18\"/>\n",
       "<text text-anchor=\"middle\" x=\"99\" y=\"-158.3\" font-family=\"Times,serif\" font-size=\"14.00\" fill=\"#000000\">5</text>\n",
       "</g>\n",
       "<!-- 5&#45;&gt;2 -->\n",
       "<g id=\"edge5\" class=\"edge\">\n",
       "<title>5&#45;&gt;2</title>\n",
       "<path fill=\"none\" stroke=\"#000000\" d=\"M94.7978,-144.2022C92.9179,-136.2406 90.6575,-126.6671 88.5629,-117.7957\"/>\n",
       "<polygon fill=\"#000000\" stroke=\"#000000\" points=\"91.9172,-116.7706 86.2128,-107.8425 85.1045,-118.3792 91.9172,-116.7706\"/>\n",
       "</g>\n",
       "<!-- 5&#45;&gt;4 -->\n",
       "<g id=\"edge4\" class=\"edge\">\n",
       "<title>5&#45;&gt;4</title>\n",
       "<path fill=\"none\" stroke=\"#000000\" d=\"M111.4804,-145.6621C118.5124,-136.4564 127.4347,-124.7764 135.2883,-114.4953\"/>\n",
       "<polygon fill=\"#000000\" stroke=\"#000000\" points=\"138.28,-116.3446 141.569,-106.2733 132.7172,-112.0953 138.28,-116.3446\"/>\n",
       "</g>\n",
       "<!-- 6 -->\n",
       "<g id=\"node7\" class=\"node\">\n",
       "<title>6</title>\n",
       "<ellipse fill=\"#00ff00\" stroke=\"#000000\" cx=\"63\" cy=\"-234\" rx=\"27\" ry=\"18\"/>\n",
       "<text text-anchor=\"middle\" x=\"63\" y=\"-230.3\" font-family=\"Times,serif\" font-size=\"14.00\" fill=\"#000000\">6</text>\n",
       "</g>\n",
       "<!-- 6&#45;&gt;1 -->\n",
       "<g id=\"edge7\" class=\"edge\">\n",
       "<title>6&#45;&gt;1</title>\n",
       "<path fill=\"none\" stroke=\"#000000\" d=\"M54.2854,-216.5708C50.0403,-208.0807 44.8464,-197.6929 40.1337,-188.2674\"/>\n",
       "<polygon fill=\"#000000\" stroke=\"#000000\" points=\"43.237,-186.6477 35.6343,-179.2687 36.976,-189.7782 43.237,-186.6477\"/>\n",
       "</g>\n",
       "<!-- 6&#45;&gt;5 -->\n",
       "<g id=\"edge6\" class=\"edge\">\n",
       "<title>6&#45;&gt;5</title>\n",
       "<path fill=\"none\" stroke=\"#000000\" d=\"M71.7146,-216.5708C75.9597,-208.0807 81.1536,-197.6929 85.8663,-188.2674\"/>\n",
       "<polygon fill=\"#000000\" stroke=\"#000000\" points=\"89.024,-189.7782 90.3657,-179.2687 82.763,-186.6477 89.024,-189.7782\"/>\n",
       "</g>\n",
       "</g>\n",
       "</svg>\n"
      ],
      "text/plain": [
       "<graphviz.files.Source at 0x10f3c3550>"
      ]
     },
     "execution_count": 6,
     "metadata": {},
     "output_type": "execute_result"
    }
   ],
   "source": [
    "CMGDB.PlotMorseGraph(morse_graph)"
   ]
  },
  {
   "cell_type": "code",
   "execution_count": 7,
   "metadata": {},
   "outputs": [
    {
     "data": {
      "image/png": "[encoded data removed]",
      "text/plain": [
       "<Figure size 800x800 with 1 Axes>"
      ]
     },
     "metadata": {
      "needs_background": "light"
     },
     "output_type": "display_data"
    }
   ],
   "source": [
    "CMGDB.PlotMorseSets(morse_graph, fig_w=8, fig_h=8)"
   ]
  },
  {
   "cell_type": "markdown",
   "metadata": {},
   "source": [
    "# Compute Order Retraction"
   ]
  },
  {
   "cell_type": "markdown",
   "metadata": {},
   "source": [
    "Save MVMap to file for CMGDB_Retract"
   ]
  },
  {
   "cell_type": "code",
   "execution_count": 8,
   "metadata": {},
   "outputs": [
    {
     "name": "stdout",
     "output_type": "stream",
     "text": [
      "CPU times: user 12.7 s, sys: 134 ms, total: 12.9 s\n",
      "Wall time: 13.5 s\n"
     ]
    }
   ],
   "source": [
    "%%time\n",
    "with open('CMGDB_mvmap.txt','w') as outfile:\n",
    "    outfile.write('%d\\n' % map_graph.num_vertices())\n",
    "    for k in range(map_graph.num_vertices()):\n",
    "        l = len(map_graph.adjacencies(k))\n",
    "        outfile.write('%d ' % k)\n",
    "        outfile.write('%d ' % l)\n",
    "        for v in map_graph.adjacencies(k):\n",
    "            outfile.write('%d ' % v)\n",
    "        outfile.write('\\n')"
   ]
  },
  {
   "cell_type": "markdown",
   "metadata": {},
   "source": [
    "Compute order retraction"
   ]
  },
  {
   "cell_type": "code",
   "execution_count": 9,
   "metadata": {},
   "outputs": [
    {
     "name": "stdout",
     "output_type": "stream",
     "text": [
      "Loading boxes and images from CMGDB.... Sun May 23 04:58:51 2021\n",
      "\n",
      "Loading 262144 boxes...\n",
      "Loading mvmap on 262144 boxes...\n",
      "Number of BOXES = 262144\n",
      "--------------------------------\n",
      "\n",
      "Computing recurrence ...Sun May 23 04:58:53 2021\n",
      "\n",
      "Number of recurrent components = 7 :: 13 + 73 + 4 + 15407 + 3 + 225 + 1 = 15726\n",
      "\n",
      "--------------------------------\n",
      "\n",
      "Creating poset....Sun May 23 04:58:54 2021\n",
      "\n",
      "Computing P-relations....Sun May 23 04:58:56 2021\n",
      "\n",
      "Writing Hasse.dot ...Sun May 23 04:58:57 2021\n",
      "\n",
      "RC size 7 : 7\n",
      "H 0 -> 5 \n",
      "H 1 -> 2 4 \n",
      "H 2 -> 3 \n",
      "H 3 -> \n",
      "H 4 -> 5 \n",
      "H 5 -> \n",
      "H 6 -> 0 1 \n",
      "Computing initial candidates....Sun May 23 04:58:57 2021\n",
      "\n",
      "RC : succ : pred : parallel : empty == 7 : 243396 : 2 : 3020 : 0\n",
      "\n",
      "Trimming candidates....Sun May 23 04:58:58 2021\n",
      "\n",
      "empty candidiates list after trimming 0\n",
      "\n",
      "Order retraction exists? : 1\n",
      "Computing retraction....Sun May 23 04:58:58 2021\n",
      "\n",
      "Writing tiles....Sun May 23 04:58:59 2021\n",
      "\n",
      "noretract_count: 0\n",
      "\n",
      "FINISHED! Sun May 23 04:59:01 2021\n",
      "\n",
      "\n",
      "CPU times: user 162 ms, sys: 60.1 ms, total: 222 ms\n",
      "Wall time: 9.68 s\n"
     ]
    }
   ],
   "source": [
    "%%time\n",
    "!./CMGDB_RETRACT\n",
    "!rm RETRACT_LOG.txt"
   ]
  },
  {
   "cell_type": "markdown",
   "metadata": {},
   "source": [
    "Load retraction from file"
   ]
  },
  {
   "cell_type": "code",
   "execution_count": 10,
   "metadata": {},
   "outputs": [],
   "source": [
    "with open('CMGDB_retract.txt','r') as infile:\n",
    "    retract_indices = []\n",
    "    retract_tiles = []\n",
    "    for i in range(map_graph.num_vertices()): \n",
    "        index, tile = [int(x) for x in next(infile).split()]\n",
    "        retract_indices.append(index)\n",
    "        retract_tiles.append(tile)"
   ]
  },
  {
   "cell_type": "markdown",
   "metadata": {},
   "source": [
    "Display Hasse diagram using Graphviz to compare to Morse graph. The index labels of the Morse sets may have changed."
   ]
  },
  {
   "cell_type": "code",
   "execution_count": 11,
   "metadata": {},
   "outputs": [
    {
     "data": {
      "image/svg+xml": [
       "<?xml version=\"1.0\" encoding=\"UTF-8\" standalone=\"no\"?>\n",
       "<!DOCTYPE svg PUBLIC \"-//W3C//DTD SVG 1.1//EN\"\n",
       " \"http://www.w3.org/Graphics/SVG/1.1/DTD/svg11.dtd\">\n",
       "<!-- Generated by graphviz version 2.40.1 (20161225.0304)\n",
       " -->\n",
       "<!-- Title: trans Pages: 1 -->\n",
       "<svg width=\"189pt\" height=\"260pt\"\n",
       " viewBox=\"0.00 0.00 189.00 260.00\" xmlns=\"http://www.w3.org/2000/svg\" xmlns:xlink=\"http://www.w3.org/1999/xlink\">\n",
       "<g id=\"graph0\" class=\"graph\" transform=\"scale(1 1) rotate(0) translate(4 256)\">\n",
       "<title>trans</title>\n",
       "<polygon fill=\"#ffffff\" stroke=\"transparent\" points=\"-4,4 -4,-256 185,-256 185,4 -4,4\"/>\n",
       "<!-- 0 -->\n",
       "<g id=\"node1\" class=\"node\">\n",
       "<title>0</title>\n",
       "<ellipse fill=\"none\" stroke=\"#000000\" cx=\"27\" cy=\"-162\" rx=\"27\" ry=\"18\"/>\n",
       "<text text-anchor=\"middle\" x=\"27\" y=\"-158.3\" font-family=\"Times,serif\" font-size=\"14.00\" fill=\"#000000\">0</text>\n",
       "</g>\n",
       "<!-- 5 -->\n",
       "<g id=\"node2\" class=\"node\">\n",
       "<title>5</title>\n",
       "<ellipse fill=\"none\" stroke=\"#000000\" cx=\"55\" cy=\"-18\" rx=\"27\" ry=\"18\"/>\n",
       "<text text-anchor=\"middle\" x=\"55\" y=\"-14.3\" font-family=\"Times,serif\" font-size=\"14.00\" fill=\"#000000\">5</text>\n",
       "</g>\n",
       "<!-- 0&#45;&gt;5 -->\n",
       "<g id=\"edge1\" class=\"edge\">\n",
       "<title>0&#45;&gt;5</title>\n",
       "<path fill=\"none\" stroke=\"#000000\" d=\"M30.4896,-144.0535C35.2683,-119.4774 43.8971,-75.1008 49.5366,-46.0974\"/>\n",
       "<polygon fill=\"#000000\" stroke=\"#000000\" points=\"52.9933,-46.6569 51.4664,-36.1727 46.122,-45.3208 52.9933,-46.6569\"/>\n",
       "</g>\n",
       "<!-- 1 -->\n",
       "<g id=\"node3\" class=\"node\">\n",
       "<title>1</title>\n",
       "<ellipse fill=\"none\" stroke=\"#000000\" cx=\"99\" cy=\"-162\" rx=\"27\" ry=\"18\"/>\n",
       "<text text-anchor=\"middle\" x=\"99\" y=\"-158.3\" font-family=\"Times,serif\" font-size=\"14.00\" fill=\"#000000\">1</text>\n",
       "</g>\n",
       "<!-- 2 -->\n",
       "<g id=\"node4\" class=\"node\">\n",
       "<title>2</title>\n",
       "<ellipse fill=\"none\" stroke=\"#000000\" cx=\"154\" cy=\"-90\" rx=\"27\" ry=\"18\"/>\n",
       "<text text-anchor=\"middle\" x=\"154\" y=\"-86.3\" font-family=\"Times,serif\" font-size=\"14.00\" fill=\"#000000\">2</text>\n",
       "</g>\n",
       "<!-- 1&#45;&gt;2 -->\n",
       "<g id=\"edge2\" class=\"edge\">\n",
       "<title>1&#45;&gt;2</title>\n",
       "<path fill=\"none\" stroke=\"#000000\" d=\"M111.4804,-145.6621C118.5124,-136.4564 127.4347,-124.7764 135.2883,-114.4953\"/>\n",
       "<polygon fill=\"#000000\" stroke=\"#000000\" points=\"138.28,-116.3446 141.569,-106.2733 132.7172,-112.0953 138.28,-116.3446\"/>\n",
       "</g>\n",
       "<!-- 4 -->\n",
       "<g id=\"node5\" class=\"node\">\n",
       "<title>4</title>\n",
       "<ellipse fill=\"none\" stroke=\"#000000\" cx=\"82\" cy=\"-90\" rx=\"27\" ry=\"18\"/>\n",
       "<text text-anchor=\"middle\" x=\"82\" y=\"-86.3\" font-family=\"Times,serif\" font-size=\"14.00\" fill=\"#000000\">4</text>\n",
       "</g>\n",
       "<!-- 1&#45;&gt;4 -->\n",
       "<g id=\"edge3\" class=\"edge\">\n",
       "<title>1&#45;&gt;4</title>\n",
       "<path fill=\"none\" stroke=\"#000000\" d=\"M94.7978,-144.2022C92.9179,-136.2406 90.6575,-126.6671 88.5629,-117.7957\"/>\n",
       "<polygon fill=\"#000000\" stroke=\"#000000\" points=\"91.9172,-116.7706 86.2128,-107.8425 85.1045,-118.3792 91.9172,-116.7706\"/>\n",
       "</g>\n",
       "<!-- 3 -->\n",
       "<g id=\"node6\" class=\"node\">\n",
       "<title>3</title>\n",
       "<ellipse fill=\"none\" stroke=\"#000000\" cx=\"154\" cy=\"-18\" rx=\"27\" ry=\"18\"/>\n",
       "<text text-anchor=\"middle\" x=\"154\" y=\"-14.3\" font-family=\"Times,serif\" font-size=\"14.00\" fill=\"#000000\">3</text>\n",
       "</g>\n",
       "<!-- 2&#45;&gt;3 -->\n",
       "<g id=\"edge4\" class=\"edge\">\n",
       "<title>2&#45;&gt;3</title>\n",
       "<path fill=\"none\" stroke=\"#000000\" d=\"M154,-71.8314C154,-64.131 154,-54.9743 154,-46.4166\"/>\n",
       "<polygon fill=\"#000000\" stroke=\"#000000\" points=\"157.5001,-46.4132 154,-36.4133 150.5001,-46.4133 157.5001,-46.4132\"/>\n",
       "</g>\n",
       "<!-- 4&#45;&gt;5 -->\n",
       "<g id=\"edge5\" class=\"edge\">\n",
       "<title>4&#45;&gt;5</title>\n",
       "<path fill=\"none\" stroke=\"#000000\" d=\"M75.3258,-72.2022C72.2524,-64.0064 68.5384,-54.1024 65.1305,-45.0145\"/>\n",
       "<polygon fill=\"#000000\" stroke=\"#000000\" points=\"68.3858,-43.7274 61.5974,-35.593 61.8315,-46.1853 68.3858,-43.7274\"/>\n",
       "</g>\n",
       "<!-- 6 -->\n",
       "<g id=\"node7\" class=\"node\">\n",
       "<title>6</title>\n",
       "<ellipse fill=\"none\" stroke=\"#000000\" cx=\"63\" cy=\"-234\" rx=\"27\" ry=\"18\"/>\n",
       "<text text-anchor=\"middle\" x=\"63\" y=\"-230.3\" font-family=\"Times,serif\" font-size=\"14.00\" fill=\"#000000\">6</text>\n",
       "</g>\n",
       "<!-- 6&#45;&gt;0 -->\n",
       "<g id=\"edge6\" class=\"edge\">\n",
       "<title>6&#45;&gt;0</title>\n",
       "<path fill=\"none\" stroke=\"#000000\" d=\"M54.2854,-216.5708C50.0403,-208.0807 44.8464,-197.6929 40.1337,-188.2674\"/>\n",
       "<polygon fill=\"#000000\" stroke=\"#000000\" points=\"43.237,-186.6477 35.6343,-179.2687 36.976,-189.7782 43.237,-186.6477\"/>\n",
       "</g>\n",
       "<!-- 6&#45;&gt;1 -->\n",
       "<g id=\"edge7\" class=\"edge\">\n",
       "<title>6&#45;&gt;1</title>\n",
       "<path fill=\"none\" stroke=\"#000000\" d=\"M71.7146,-216.5708C75.9597,-208.0807 81.1536,-197.6929 85.8663,-188.2674\"/>\n",
       "<polygon fill=\"#000000\" stroke=\"#000000\" points=\"89.024,-189.7782 90.3657,-179.2687 82.763,-186.6477 89.024,-189.7782\"/>\n",
       "</g>\n",
       "</g>\n",
       "</svg>\n"
      ],
      "text/plain": [
       "<graphviz.files.Source at 0x11280e390>"
      ]
     },
     "execution_count": 11,
     "metadata": {},
     "output_type": "execute_result"
    }
   ],
   "source": [
    "graphviz.Source.from_file('Hasse.dot')"
   ]
  },
  {
   "cell_type": "markdown",
   "metadata": {},
   "source": [
    "Now we need to look at the original Morse graph and the new Morse graph above and create a mapping (a dictionary) from the indices of the original Morse graph to the indices of this new Morse graph. Only the indices that changed need to be included in the mapping. In the example above the mapping is given below."
   ]
  },
  {
   "cell_type": "code",
   "execution_count": 12,
   "metadata": {},
   "outputs": [],
   "source": [
    "# The original indices 1, 5, 4, 2, and 0 became 0, 1, 2, 4, and 5, respectively.\n",
    "# So we set the following dictionary:\n",
    "morse_nodes_map = {1: 0, 5: 1, 4: 2, 2: 4, 0: 5}"
   ]
  },
  {
   "cell_type": "markdown",
   "metadata": {},
   "source": [
    "Using all the data above we can now call the function to plot the order retraction. The color are automatically set from the mappign above."
   ]
  },
  {
   "cell_type": "code",
   "execution_count": 13,
   "metadata": {},
   "outputs": [
    {
     "data": {
      "image/png": "[encoded data removed]",
      "text/plain": [
       "<Figure size 576x576 with 1 Axes>"
      ]
     },
     "metadata": {
      "needs_background": "light"
     },
     "output_type": "display_data"
    }
   ],
   "source": [
    "PlotOrderRetraction(morse_graph, map_graph, retract_tiles, retract_indices, morse_nodes_map)"
   ]
  },
  {
   "cell_type": "markdown",
   "metadata": {},
   "source": [
    "We can also select a different color map as below."
   ]
  },
  {
   "cell_type": "code",
   "execution_count": 14,
   "metadata": {},
   "outputs": [
    {
     "data": {
      "image/svg+xml": [
       "<?xml version=\"1.0\" encoding=\"UTF-8\" standalone=\"no\"?>\n",
       "<!DOCTYPE svg PUBLIC \"-//W3C//DTD SVG 1.1//EN\"\n",
       " \"http://www.w3.org/Graphics/SVG/1.1/DTD/svg11.dtd\">\n",
       "<!-- Generated by graphviz version 2.40.1 (20161225.0304)\n",
       " -->\n",
       "<!-- Title: %3 Pages: 1 -->\n",
       "<svg width=\"189pt\" height=\"260pt\"\n",
       " viewBox=\"0.00 0.00 189.00 260.00\" xmlns=\"http://www.w3.org/2000/svg\" xmlns:xlink=\"http://www.w3.org/1999/xlink\">\n",
       "<g id=\"graph0\" class=\"graph\" transform=\"scale(1 1) rotate(0) translate(4 256)\">\n",
       "<title>%3</title>\n",
       "<polygon fill=\"#ffffff\" stroke=\"transparent\" points=\"-4,4 -4,-256 185,-256 185,4 -4,4\"/>\n",
       "<!-- 0 -->\n",
       "<g id=\"node1\" class=\"node\">\n",
       "<title>0</title>\n",
       "<ellipse fill=\"#00ffff\" stroke=\"#000000\" cx=\"54\" cy=\"-18\" rx=\"27\" ry=\"18\"/>\n",
       "<text text-anchor=\"middle\" x=\"54\" y=\"-14.3\" font-family=\"Times,serif\" font-size=\"14.00\" fill=\"#000000\">0</text>\n",
       "</g>\n",
       "<!-- 1 -->\n",
       "<g id=\"node2\" class=\"node\">\n",
       "<title>1</title>\n",
       "<ellipse fill=\"#2ad5ff\" stroke=\"#000000\" cx=\"27\" cy=\"-162\" rx=\"27\" ry=\"18\"/>\n",
       "<text text-anchor=\"middle\" x=\"27\" y=\"-158.3\" font-family=\"Times,serif\" font-size=\"14.00\" fill=\"#000000\">1</text>\n",
       "</g>\n",
       "<!-- 1&#45;&gt;0 -->\n",
       "<g id=\"edge1\" class=\"edge\">\n",
       "<title>1&#45;&gt;0</title>\n",
       "<path fill=\"none\" stroke=\"#000000\" d=\"M30.365,-144.0535C34.973,-119.4774 43.2936,-75.1008 48.7317,-46.0974\"/>\n",
       "<polygon fill=\"#000000\" stroke=\"#000000\" points=\"52.1897,-46.6465 50.5926,-36.1727 45.3096,-45.3564 52.1897,-46.6465\"/>\n",
       "</g>\n",
       "<!-- 2 -->\n",
       "<g id=\"node3\" class=\"node\">\n",
       "<title>2</title>\n",
       "<ellipse fill=\"#55aaff\" stroke=\"#000000\" cx=\"82\" cy=\"-90\" rx=\"27\" ry=\"18\"/>\n",
       "<text text-anchor=\"middle\" x=\"82\" y=\"-86.3\" font-family=\"Times,serif\" font-size=\"14.00\" fill=\"#000000\">2</text>\n",
       "</g>\n",
       "<!-- 2&#45;&gt;0 -->\n",
       "<g id=\"edge2\" class=\"edge\">\n",
       "<title>2&#45;&gt;0</title>\n",
       "<path fill=\"none\" stroke=\"#000000\" d=\"M75.222,-72.5708C72.0128,-64.3187 68.1065,-54.2738 64.5242,-45.0623\"/>\n",
       "<polygon fill=\"#000000\" stroke=\"#000000\" points=\"67.6992,-43.5697 60.8126,-35.5182 61.1752,-46.1069 67.6992,-43.5697\"/>\n",
       "</g>\n",
       "<!-- 3 -->\n",
       "<g id=\"node4\" class=\"node\">\n",
       "<title>3</title>\n",
       "<ellipse fill=\"#807fff\" stroke=\"#000000\" cx=\"154\" cy=\"-18\" rx=\"27\" ry=\"18\"/>\n",
       "<text text-anchor=\"middle\" x=\"154\" y=\"-14.3\" font-family=\"Times,serif\" font-size=\"14.00\" fill=\"#000000\">3</text>\n",
       "</g>\n",
       "<!-- 4 -->\n",
       "<g id=\"node5\" class=\"node\">\n",
       "<title>4</title>\n",
       "<ellipse fill=\"#aa55ff\" stroke=\"#000000\" cx=\"154\" cy=\"-90\" rx=\"27\" ry=\"18\"/>\n",
       "<text text-anchor=\"middle\" x=\"154\" y=\"-86.3\" font-family=\"Times,serif\" font-size=\"14.00\" fill=\"#000000\">4</text>\n",
       "</g>\n",
       "<!-- 4&#45;&gt;3 -->\n",
       "<g id=\"edge3\" class=\"edge\">\n",
       "<title>4&#45;&gt;3</title>\n",
       "<path fill=\"none\" stroke=\"#000000\" d=\"M154,-71.8314C154,-64.131 154,-54.9743 154,-46.4166\"/>\n",
       "<polygon fill=\"#000000\" stroke=\"#000000\" points=\"157.5001,-46.4132 154,-36.4133 150.5001,-46.4133 157.5001,-46.4132\"/>\n",
       "</g>\n",
       "<!-- 5 -->\n",
       "<g id=\"node6\" class=\"node\">\n",
       "<title>5</title>\n",
       "<ellipse fill=\"#d52aff\" stroke=\"#000000\" cx=\"99\" cy=\"-162\" rx=\"27\" ry=\"18\"/>\n",
       "<text text-anchor=\"middle\" x=\"99\" y=\"-158.3\" font-family=\"Times,serif\" font-size=\"14.00\" fill=\"#000000\">5</text>\n",
       "</g>\n",
       "<!-- 5&#45;&gt;2 -->\n",
       "<g id=\"edge5\" class=\"edge\">\n",
       "<title>5&#45;&gt;2</title>\n",
       "<path fill=\"none\" stroke=\"#000000\" d=\"M94.7978,-144.2022C92.9179,-136.2406 90.6575,-126.6671 88.5629,-117.7957\"/>\n",
       "<polygon fill=\"#000000\" stroke=\"#000000\" points=\"91.9172,-116.7706 86.2128,-107.8425 85.1045,-118.3792 91.9172,-116.7706\"/>\n",
       "</g>\n",
       "<!-- 5&#45;&gt;4 -->\n",
       "<g id=\"edge4\" class=\"edge\">\n",
       "<title>5&#45;&gt;4</title>\n",
       "<path fill=\"none\" stroke=\"#000000\" d=\"M111.4804,-145.6621C118.5124,-136.4564 127.4347,-124.7764 135.2883,-114.4953\"/>\n",
       "<polygon fill=\"#000000\" stroke=\"#000000\" points=\"138.28,-116.3446 141.569,-106.2733 132.7172,-112.0953 138.28,-116.3446\"/>\n",
       "</g>\n",
       "<!-- 6 -->\n",
       "<g id=\"node7\" class=\"node\">\n",
       "<title>6</title>\n",
       "<ellipse fill=\"#ff00ff\" stroke=\"#000000\" cx=\"63\" cy=\"-234\" rx=\"27\" ry=\"18\"/>\n",
       "<text text-anchor=\"middle\" x=\"63\" y=\"-230.3\" font-family=\"Times,serif\" font-size=\"14.00\" fill=\"#000000\">6</text>\n",
       "</g>\n",
       "<!-- 6&#45;&gt;1 -->\n",
       "<g id=\"edge7\" class=\"edge\">\n",
       "<title>6&#45;&gt;1</title>\n",
       "<path fill=\"none\" stroke=\"#000000\" d=\"M54.2854,-216.5708C50.0403,-208.0807 44.8464,-197.6929 40.1337,-188.2674\"/>\n",
       "<polygon fill=\"#000000\" stroke=\"#000000\" points=\"43.237,-186.6477 35.6343,-179.2687 36.976,-189.7782 43.237,-186.6477\"/>\n",
       "</g>\n",
       "<!-- 6&#45;&gt;5 -->\n",
       "<g id=\"edge6\" class=\"edge\">\n",
       "<title>6&#45;&gt;5</title>\n",
       "<path fill=\"none\" stroke=\"#000000\" d=\"M71.7146,-216.5708C75.9597,-208.0807 81.1536,-197.6929 85.8663,-188.2674\"/>\n",
       "<polygon fill=\"#000000\" stroke=\"#000000\" points=\"89.024,-189.7782 90.3657,-179.2687 82.763,-186.6477 89.024,-189.7782\"/>\n",
       "</g>\n",
       "</g>\n",
       "</svg>\n"
      ],
      "text/plain": [
       "<graphviz.files.Source at 0x112595990>"
      ]
     },
     "execution_count": 14,
     "metadata": {},
     "output_type": "execute_result"
    }
   ],
   "source": [
    "CMGDB.PlotMorseGraph(morse_graph, cmap=matplotlib.cm.cool)"
   ]
  },
  {
   "cell_type": "code",
   "execution_count": 15,
   "metadata": {},
   "outputs": [
    {
     "data": {
      "image/png": "[encoded data removed]",
      "text/plain": [
       "<Figure size 800x800 with 1 Axes>"
      ]
     },
     "metadata": {
      "needs_background": "light"
     },
     "output_type": "display_data"
    }
   ],
   "source": [
    "CMGDB.PlotMorseSets(morse_graph, fig_w=8, fig_h=8, cmap=matplotlib.cm.cool)"
   ]
  },
  {
   "cell_type": "code",
   "execution_count": 16,
   "metadata": {},
   "outputs": [
    {
     "data": {
      "image/png": "[encoded data removed]",
      "text/plain": [
       "<Figure size 576x576 with 1 Axes>"
      ]
     },
     "metadata": {
      "needs_background": "light"
     },
     "output_type": "display_data"
    }
   ],
   "source": [
    "PlotOrderRetraction(morse_graph, map_graph, retract_tiles,\n",
    "                    retract_indices, morse_nodes_map, cmap=matplotlib.cm.cool)"
   ]
  },
  {
   "cell_type": "markdown",
   "metadata": {},
   "source": [
    "We can also plot only slected Morse sets and their order retraction by passing a list of Morse nodes. The indices of the Morse sets refer to the indices in the original Morse graph."
   ]
  },
  {
   "cell_type": "code",
   "execution_count": 17,
   "metadata": {},
   "outputs": [
    {
     "data": {
      "image/svg+xml": [
       "<?xml version=\"1.0\" encoding=\"UTF-8\" standalone=\"no\"?>\n",
       "<!DOCTYPE svg PUBLIC \"-//W3C//DTD SVG 1.1//EN\"\n",
       " \"http://www.w3.org/Graphics/SVG/1.1/DTD/svg11.dtd\">\n",
       "<!-- Generated by graphviz version 2.40.1 (20161225.0304)\n",
       " -->\n",
       "<!-- Title: %3 Pages: 1 -->\n",
       "<svg width=\"189pt\" height=\"260pt\"\n",
       " viewBox=\"0.00 0.00 189.00 260.00\" xmlns=\"http://www.w3.org/2000/svg\" xmlns:xlink=\"http://www.w3.org/1999/xlink\">\n",
       "<g id=\"graph0\" class=\"graph\" transform=\"scale(1 1) rotate(0) translate(4 256)\">\n",
       "<title>%3</title>\n",
       "<polygon fill=\"#ffffff\" stroke=\"transparent\" points=\"-4,4 -4,-256 185,-256 185,4 -4,4\"/>\n",
       "<!-- 0 -->\n",
       "<g id=\"node1\" class=\"node\">\n",
       "<title>0</title>\n",
       "<ellipse fill=\"#0000ff\" stroke=\"#000000\" cx=\"54\" cy=\"-18\" rx=\"27\" ry=\"18\"/>\n",
       "<text text-anchor=\"middle\" x=\"54\" y=\"-14.3\" font-family=\"Times,serif\" font-size=\"14.00\" fill=\"#000000\">0</text>\n",
       "</g>\n",
       "<!-- 1 -->\n",
       "<g id=\"node2\" class=\"node\">\n",
       "<title>1</title>\n",
       "<ellipse fill=\"#5400ab\" stroke=\"#000000\" cx=\"27\" cy=\"-162\" rx=\"27\" ry=\"18\"/>\n",
       "<text text-anchor=\"middle\" x=\"27\" y=\"-158.3\" font-family=\"Times,serif\" font-size=\"14.00\" fill=\"#000000\">1</text>\n",
       "</g>\n",
       "<!-- 1&#45;&gt;0 -->\n",
       "<g id=\"edge1\" class=\"edge\">\n",
       "<title>1&#45;&gt;0</title>\n",
       "<path fill=\"none\" stroke=\"#000000\" d=\"M30.365,-144.0535C34.973,-119.4774 43.2936,-75.1008 48.7317,-46.0974\"/>\n",
       "<polygon fill=\"#000000\" stroke=\"#000000\" points=\"52.1897,-46.6465 50.5926,-36.1727 45.3096,-45.3564 52.1897,-46.6465\"/>\n",
       "</g>\n",
       "<!-- 2 -->\n",
       "<g id=\"node3\" class=\"node\">\n",
       "<title>2</title>\n",
       "<ellipse fill=\"#aa0055\" stroke=\"#000000\" cx=\"82\" cy=\"-90\" rx=\"27\" ry=\"18\"/>\n",
       "<text text-anchor=\"middle\" x=\"82\" y=\"-86.3\" font-family=\"Times,serif\" font-size=\"14.00\" fill=\"#000000\">2</text>\n",
       "</g>\n",
       "<!-- 2&#45;&gt;0 -->\n",
       "<g id=\"edge2\" class=\"edge\">\n",
       "<title>2&#45;&gt;0</title>\n",
       "<path fill=\"none\" stroke=\"#000000\" d=\"M75.222,-72.5708C72.0128,-64.3187 68.1065,-54.2738 64.5242,-45.0623\"/>\n",
       "<polygon fill=\"#000000\" stroke=\"#000000\" points=\"67.6992,-43.5697 60.8126,-35.5182 61.1752,-46.1069 67.6992,-43.5697\"/>\n",
       "</g>\n",
       "<!-- 3 -->\n",
       "<g id=\"node4\" class=\"node\">\n",
       "<title>3</title>\n",
       "<ellipse fill=\"#fe0100\" stroke=\"#000000\" cx=\"154\" cy=\"-18\" rx=\"27\" ry=\"18\"/>\n",
       "<text text-anchor=\"middle\" x=\"154\" y=\"-14.3\" font-family=\"Times,serif\" font-size=\"14.00\" fill=\"#000000\">3</text>\n",
       "</g>\n",
       "<!-- 4 -->\n",
       "<g id=\"node5\" class=\"node\">\n",
       "<title>4</title>\n",
       "<ellipse fill=\"#aa5500\" stroke=\"#000000\" cx=\"154\" cy=\"-90\" rx=\"27\" ry=\"18\"/>\n",
       "<text text-anchor=\"middle\" x=\"154\" y=\"-86.3\" font-family=\"Times,serif\" font-size=\"14.00\" fill=\"#000000\">4</text>\n",
       "</g>\n",
       "<!-- 4&#45;&gt;3 -->\n",
       "<g id=\"edge3\" class=\"edge\">\n",
       "<title>4&#45;&gt;3</title>\n",
       "<path fill=\"none\" stroke=\"#000000\" d=\"M154,-71.8314C154,-64.131 154,-54.9743 154,-46.4166\"/>\n",
       "<polygon fill=\"#000000\" stroke=\"#000000\" points=\"157.5001,-46.4132 154,-36.4133 150.5001,-46.4133 157.5001,-46.4132\"/>\n",
       "</g>\n",
       "<!-- 5 -->\n",
       "<g id=\"node6\" class=\"node\">\n",
       "<title>5</title>\n",
       "<ellipse fill=\"#54ab00\" stroke=\"#000000\" cx=\"99\" cy=\"-162\" rx=\"27\" ry=\"18\"/>\n",
       "<text text-anchor=\"middle\" x=\"99\" y=\"-158.3\" font-family=\"Times,serif\" font-size=\"14.00\" fill=\"#000000\">5</text>\n",
       "</g>\n",
       "<!-- 5&#45;&gt;2 -->\n",
       "<g id=\"edge5\" class=\"edge\">\n",
       "<title>5&#45;&gt;2</title>\n",
       "<path fill=\"none\" stroke=\"#000000\" d=\"M94.7978,-144.2022C92.9179,-136.2406 90.6575,-126.6671 88.5629,-117.7957\"/>\n",
       "<polygon fill=\"#000000\" stroke=\"#000000\" points=\"91.9172,-116.7706 86.2128,-107.8425 85.1045,-118.3792 91.9172,-116.7706\"/>\n",
       "</g>\n",
       "<!-- 5&#45;&gt;4 -->\n",
       "<g id=\"edge4\" class=\"edge\">\n",
       "<title>5&#45;&gt;4</title>\n",
       "<path fill=\"none\" stroke=\"#000000\" d=\"M111.4804,-145.6621C118.5124,-136.4564 127.4347,-124.7764 135.2883,-114.4953\"/>\n",
       "<polygon fill=\"#000000\" stroke=\"#000000\" points=\"138.28,-116.3446 141.569,-106.2733 132.7172,-112.0953 138.28,-116.3446\"/>\n",
       "</g>\n",
       "<!-- 6 -->\n",
       "<g id=\"node7\" class=\"node\">\n",
       "<title>6</title>\n",
       "<ellipse fill=\"#00ff00\" stroke=\"#000000\" cx=\"63\" cy=\"-234\" rx=\"27\" ry=\"18\"/>\n",
       "<text text-anchor=\"middle\" x=\"63\" y=\"-230.3\" font-family=\"Times,serif\" font-size=\"14.00\" fill=\"#000000\">6</text>\n",
       "</g>\n",
       "<!-- 6&#45;&gt;1 -->\n",
       "<g id=\"edge7\" class=\"edge\">\n",
       "<title>6&#45;&gt;1</title>\n",
       "<path fill=\"none\" stroke=\"#000000\" d=\"M54.2854,-216.5708C50.0403,-208.0807 44.8464,-197.6929 40.1337,-188.2674\"/>\n",
       "<polygon fill=\"#000000\" stroke=\"#000000\" points=\"43.237,-186.6477 35.6343,-179.2687 36.976,-189.7782 43.237,-186.6477\"/>\n",
       "</g>\n",
       "<!-- 6&#45;&gt;5 -->\n",
       "<g id=\"edge6\" class=\"edge\">\n",
       "<title>6&#45;&gt;5</title>\n",
       "<path fill=\"none\" stroke=\"#000000\" d=\"M71.7146,-216.5708C75.9597,-208.0807 81.1536,-197.6929 85.8663,-188.2674\"/>\n",
       "<polygon fill=\"#000000\" stroke=\"#000000\" points=\"89.024,-189.7782 90.3657,-179.2687 82.763,-186.6477 89.024,-189.7782\"/>\n",
       "</g>\n",
       "</g>\n",
       "</svg>\n"
      ],
      "text/plain": [
       "<graphviz.files.Source at 0x13082b710>"
      ]
     },
     "execution_count": 17,
     "metadata": {},
     "output_type": "execute_result"
    }
   ],
   "source": [
    "CMGDB.PlotMorseGraph(morse_graph)"
   ]
  },
  {
   "cell_type": "markdown",
   "metadata": {},
   "source": [
    "Let's plot only the attractors (nodes 0 and 3) and their order retraction."
   ]
  },
  {
   "cell_type": "code",
   "execution_count": 18,
   "metadata": {},
   "outputs": [
    {
     "data": {
      "image/png": "[encoded data removed]",
      "text/plain": [
       "<Figure size 576x576 with 1 Axes>"
      ]
     },
     "metadata": {
      "needs_background": "light"
     },
     "output_type": "display_data"
    }
   ],
   "source": [
    "PlotOrderRetraction(morse_graph, map_graph, retract_tiles, retract_indices,\n",
    "                    morse_nodes_map, morse_nodes=[0, 3])"
   ]
  },
  {
   "cell_type": "code",
   "execution_count": null,
   "metadata": {},
   "outputs": [],
   "source": []
  }
 ],
 "metadata": {
  "kernelspec": {
   "display_name": "Python 3",
   "language": "python",
   "name": "python3"
  },
  "language_info": {
   "codemirror_mode": {
    "name": "ipython",
    "version": 3
   },
   "file_extension": ".py",
   "mimetype": "text/x-python",
   "name": "python",
   "nbconvert_exporter": "python",
   "pygments_lexer": "ipython3",
   "version": "3.7.7"
  },
  "toc": {
   "base_numbering": 1,
   "nav_menu": {},
   "number_sections": true,
   "sideBar": true,
   "skip_h1_title": false,
   "title_cell": "Table of Contents",
   "title_sidebar": "Contents",
   "toc_cell": true,
   "toc_position": {},
   "toc_section_display": true,
   "toc_window_display": false
  }
 },
 "nbformat": 4,
 "nbformat_minor": 2
}
